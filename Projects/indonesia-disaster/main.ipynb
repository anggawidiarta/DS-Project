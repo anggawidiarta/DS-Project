{
 "cells": [
  {
   "cell_type": "code",
   "execution_count": 43,
   "metadata": {},
   "outputs": [],
   "source": [
    "import polars as pl\n",
    "import numpy as np\n",
    "import matplotlib.pyplot as plt\n"
   ]
  },
  {
   "cell_type": "code",
   "execution_count": 44,
   "metadata": {},
   "outputs": [],
   "source": [
    "df = pl.read_excel(\"./data-bencana-crostab.xlsx\")\n"
   ]
  },
  {
   "cell_type": "code",
   "execution_count": 45,
   "metadata": {},
   "outputs": [
    {
     "data": {
      "text/plain": [
       "(10, 10)"
      ]
     },
     "execution_count": 45,
     "metadata": {},
     "output_type": "execute_result"
    }
   ],
   "source": [
    "df.shape\n"
   ]
  },
  {
   "cell_type": "code",
   "execution_count": 46,
   "metadata": {},
   "outputs": [
    {
     "data": {
      "text/html": [
       "<div><style>\n",
       ".dataframe > thead > tr > th,\n",
       ".dataframe > tbody > tr > td {\n",
       "  text-align: right;\n",
       "}\n",
       "</style>\n",
       "<small>shape: (10, 10)</small><table border=\"1\" class=\"dataframe\"><thead><tr><th>jenis_bencana</th><th>2012</th><th>2013</th><th>2014</th><th>2015</th><th>2016</th><th>2017</th><th>2018</th><th>2019</th><th>Grand Total</th></tr><tr><td>str</td><td>i64</td><td>i64</td><td>i64</td><td>i64</td><td>i64</td><td>i64</td><td>i64</td><td>i64</td><td>i64</td></tr></thead><tbody><tr><td>&quot;Angin Puting B…</td><td>543</td><td>500</td><td>618</td><td>571</td><td>663</td><td>885</td><td>804</td><td>568</td><td>5152</td></tr><tr><td>&quot;Banjir&quot;</td><td>581</td><td>710</td><td>588</td><td>523</td><td>820</td><td>973</td><td>673</td><td>247</td><td>5115</td></tr><tr><td>&quot;Gelombang Pasa…</td><td>29</td><td>36</td><td>20</td><td>7</td><td>22</td><td>11</td><td>34</td><td>8</td><td>167</td></tr><tr><td>&quot;Gempa Bumi&quot;</td><td>12</td><td>6</td><td>13</td><td>25</td><td>10</td><td>17</td><td>22</td><td>13</td><td>118</td></tr><tr><td>&quot;Gunung Meletus…</td><td>7</td><td>8</td><td>4</td><td>9</td><td>7</td><td>1</td><td>58</td><td>4</td><td>98</td></tr><tr><td>&quot;Kebakaran Huta…</td><td>49</td><td>21</td><td>100</td><td>46</td><td>178</td><td>96</td><td>370</td><td>55</td><td>915</td></tr><tr><td>&quot;Kekeringan&quot;</td><td>263</td><td>66</td><td>7</td><td>7</td><td>null</td><td>19</td><td>129</td><td>33</td><td>524</td></tr><tr><td>&quot;Tanah Longsor&quot;</td><td>287</td><td>293</td><td>598</td><td>502</td><td>598</td><td>844</td><td>473</td><td>355</td><td>3950</td></tr><tr><td>&quot;Tsunami&quot;</td><td>0</td><td>0</td><td>2</td><td>0</td><td>0</td><td>0</td><td>2</td><td>0</td><td>4</td></tr><tr><td>&quot;Grand Total&quot;</td><td>1771</td><td>1640</td><td>1950</td><td>1690</td><td>2298</td><td>2846</td><td>2565</td><td>1283</td><td>16043</td></tr></tbody></table></div>"
      ],
      "text/plain": [
       "shape: (10, 10)\n",
       "┌──────────────────────┬──────┬──────┬──────┬───┬──────┬──────┬──────┬─────────────┐\n",
       "│ jenis_bencana        ┆ 2012 ┆ 2013 ┆ 2014 ┆ … ┆ 2017 ┆ 2018 ┆ 2019 ┆ Grand Total │\n",
       "│ ---                  ┆ ---  ┆ ---  ┆ ---  ┆   ┆ ---  ┆ ---  ┆ ---  ┆ ---         │\n",
       "│ str                  ┆ i64  ┆ i64  ┆ i64  ┆   ┆ i64  ┆ i64  ┆ i64  ┆ i64         │\n",
       "╞══════════════════════╪══════╪══════╪══════╪═══╪══════╪══════╪══════╪═════════════╡\n",
       "│ Angin Puting Beliung ┆ 543  ┆ 500  ┆ 618  ┆ … ┆ 885  ┆ 804  ┆ 568  ┆ 5152        │\n",
       "│ Banjir               ┆ 581  ┆ 710  ┆ 588  ┆ … ┆ 973  ┆ 673  ┆ 247  ┆ 5115        │\n",
       "│ Gelombang Pasang     ┆ 29   ┆ 36   ┆ 20   ┆ … ┆ 11   ┆ 34   ┆ 8    ┆ 167         │\n",
       "│ Gempa Bumi           ┆ 12   ┆ 6    ┆ 13   ┆ … ┆ 17   ┆ 22   ┆ 13   ┆ 118         │\n",
       "│ …                    ┆ …    ┆ …    ┆ …    ┆ … ┆ …    ┆ …    ┆ …    ┆ …           │\n",
       "│ Kekeringan           ┆ 263  ┆ 66   ┆ 7    ┆ … ┆ 19   ┆ 129  ┆ 33   ┆ 524         │\n",
       "│ Tanah Longsor        ┆ 287  ┆ 293  ┆ 598  ┆ … ┆ 844  ┆ 473  ┆ 355  ┆ 3950        │\n",
       "│ Tsunami              ┆ 0    ┆ 0    ┆ 2    ┆ … ┆ 0    ┆ 2    ┆ 0    ┆ 4           │\n",
       "│ Grand Total          ┆ 1771 ┆ 1640 ┆ 1950 ┆ … ┆ 2846 ┆ 2565 ┆ 1283 ┆ 16043       │\n",
       "└──────────────────────┴──────┴──────┴──────┴───┴──────┴──────┴──────┴─────────────┘"
      ]
     },
     "execution_count": 46,
     "metadata": {},
     "output_type": "execute_result"
    }
   ],
   "source": [
    "df.head(10)\n"
   ]
  },
  {
   "cell_type": "code",
   "execution_count": 47,
   "metadata": {},
   "outputs": [],
   "source": [
    "df_new = df.filter(pl.col(\"jenis_bencana\") != \"Grand Total\")\n"
   ]
  },
  {
   "cell_type": "code",
   "execution_count": 48,
   "metadata": {},
   "outputs": [],
   "source": [
    "df_new = df_new.drop(\"Grand Total\")\n"
   ]
  },
  {
   "cell_type": "code",
   "execution_count": 49,
   "metadata": {},
   "outputs": [
    {
     "data": {
      "text/html": [
       "<div><style>\n",
       ".dataframe > thead > tr > th,\n",
       ".dataframe > tbody > tr > td {\n",
       "  text-align: right;\n",
       "}\n",
       "</style>\n",
       "<small>shape: (5, 9)</small><table border=\"1\" class=\"dataframe\"><thead><tr><th>jenis_bencana</th><th>2012</th><th>2013</th><th>2014</th><th>2015</th><th>2016</th><th>2017</th><th>2018</th><th>2019</th></tr><tr><td>str</td><td>i64</td><td>i64</td><td>i64</td><td>i64</td><td>i64</td><td>i64</td><td>i64</td><td>i64</td></tr></thead><tbody><tr><td>&quot;Angin Puting B…</td><td>543</td><td>500</td><td>618</td><td>571</td><td>663</td><td>885</td><td>804</td><td>568</td></tr><tr><td>&quot;Banjir&quot;</td><td>581</td><td>710</td><td>588</td><td>523</td><td>820</td><td>973</td><td>673</td><td>247</td></tr><tr><td>&quot;Gelombang Pasa…</td><td>29</td><td>36</td><td>20</td><td>7</td><td>22</td><td>11</td><td>34</td><td>8</td></tr><tr><td>&quot;Gempa Bumi&quot;</td><td>12</td><td>6</td><td>13</td><td>25</td><td>10</td><td>17</td><td>22</td><td>13</td></tr><tr><td>&quot;Gunung Meletus…</td><td>7</td><td>8</td><td>4</td><td>9</td><td>7</td><td>1</td><td>58</td><td>4</td></tr></tbody></table></div>"
      ],
      "text/plain": [
       "shape: (5, 9)\n",
       "┌──────────────────────┬──────┬──────┬──────┬───┬──────┬──────┬──────┬──────┐\n",
       "│ jenis_bencana        ┆ 2012 ┆ 2013 ┆ 2014 ┆ … ┆ 2016 ┆ 2017 ┆ 2018 ┆ 2019 │\n",
       "│ ---                  ┆ ---  ┆ ---  ┆ ---  ┆   ┆ ---  ┆ ---  ┆ ---  ┆ ---  │\n",
       "│ str                  ┆ i64  ┆ i64  ┆ i64  ┆   ┆ i64  ┆ i64  ┆ i64  ┆ i64  │\n",
       "╞══════════════════════╪══════╪══════╪══════╪═══╪══════╪══════╪══════╪══════╡\n",
       "│ Angin Puting Beliung ┆ 543  ┆ 500  ┆ 618  ┆ … ┆ 663  ┆ 885  ┆ 804  ┆ 568  │\n",
       "│ Banjir               ┆ 581  ┆ 710  ┆ 588  ┆ … ┆ 820  ┆ 973  ┆ 673  ┆ 247  │\n",
       "│ Gelombang Pasang     ┆ 29   ┆ 36   ┆ 20   ┆ … ┆ 22   ┆ 11   ┆ 34   ┆ 8    │\n",
       "│ Gempa Bumi           ┆ 12   ┆ 6    ┆ 13   ┆ … ┆ 10   ┆ 17   ┆ 22   ┆ 13   │\n",
       "│ Gunung Meletus       ┆ 7    ┆ 8    ┆ 4    ┆ … ┆ 7    ┆ 1    ┆ 58   ┆ 4    │\n",
       "└──────────────────────┴──────┴──────┴──────┴───┴──────┴──────┴──────┴──────┘"
      ]
     },
     "execution_count": 49,
     "metadata": {},
     "output_type": "execute_result"
    }
   ],
   "source": [
    "df_new.head()\n"
   ]
  },
  {
   "cell_type": "code",
   "execution_count": 50,
   "metadata": {},
   "outputs": [
    {
     "data": {
      "text/html": [
       "<div><style>\n",
       ".dataframe > thead > tr > th,\n",
       ".dataframe > tbody > tr > td {\n",
       "  text-align: right;\n",
       "}\n",
       "</style>\n",
       "<small>shape: (9, 10)</small><table border=\"1\" class=\"dataframe\"><thead><tr><th>jenis_bencana</th><th>2012</th><th>2013</th><th>2014</th><th>2015</th><th>2016</th><th>2017</th><th>2018</th><th>2019</th><th>jumlah_total</th></tr><tr><td>str</td><td>i64</td><td>i64</td><td>i64</td><td>i64</td><td>i64</td><td>i64</td><td>i64</td><td>i64</td><td>i64</td></tr></thead><tbody><tr><td>&quot;Angin Puting B…</td><td>543</td><td>500</td><td>618</td><td>571</td><td>663</td><td>885</td><td>804</td><td>568</td><td>5152</td></tr><tr><td>&quot;Banjir&quot;</td><td>581</td><td>710</td><td>588</td><td>523</td><td>820</td><td>973</td><td>673</td><td>247</td><td>5115</td></tr><tr><td>&quot;Gelombang Pasa…</td><td>29</td><td>36</td><td>20</td><td>7</td><td>22</td><td>11</td><td>34</td><td>8</td><td>167</td></tr><tr><td>&quot;Gempa Bumi&quot;</td><td>12</td><td>6</td><td>13</td><td>25</td><td>10</td><td>17</td><td>22</td><td>13</td><td>118</td></tr><tr><td>&quot;Gunung Meletus…</td><td>7</td><td>8</td><td>4</td><td>9</td><td>7</td><td>1</td><td>58</td><td>4</td><td>98</td></tr><tr><td>&quot;Kebakaran Huta…</td><td>49</td><td>21</td><td>100</td><td>46</td><td>178</td><td>96</td><td>370</td><td>55</td><td>915</td></tr><tr><td>&quot;Kekeringan&quot;</td><td>263</td><td>66</td><td>7</td><td>7</td><td>null</td><td>19</td><td>129</td><td>33</td><td>524</td></tr><tr><td>&quot;Tanah Longsor&quot;</td><td>287</td><td>293</td><td>598</td><td>502</td><td>598</td><td>844</td><td>473</td><td>355</td><td>3950</td></tr><tr><td>&quot;Tsunami&quot;</td><td>0</td><td>0</td><td>2</td><td>0</td><td>0</td><td>0</td><td>2</td><td>0</td><td>4</td></tr></tbody></table></div>"
      ],
      "text/plain": [
       "shape: (9, 10)\n",
       "┌──────────────────────┬──────┬──────┬──────┬───┬──────┬──────┬──────┬──────────────┐\n",
       "│ jenis_bencana        ┆ 2012 ┆ 2013 ┆ 2014 ┆ … ┆ 2017 ┆ 2018 ┆ 2019 ┆ jumlah_total │\n",
       "│ ---                  ┆ ---  ┆ ---  ┆ ---  ┆   ┆ ---  ┆ ---  ┆ ---  ┆ ---          │\n",
       "│ str                  ┆ i64  ┆ i64  ┆ i64  ┆   ┆ i64  ┆ i64  ┆ i64  ┆ i64          │\n",
       "╞══════════════════════╪══════╪══════╪══════╪═══╪══════╪══════╪══════╪══════════════╡\n",
       "│ Angin Puting Beliung ┆ 543  ┆ 500  ┆ 618  ┆ … ┆ 885  ┆ 804  ┆ 568  ┆ 5152         │\n",
       "│ Banjir               ┆ 581  ┆ 710  ┆ 588  ┆ … ┆ 973  ┆ 673  ┆ 247  ┆ 5115         │\n",
       "│ Gelombang Pasang     ┆ 29   ┆ 36   ┆ 20   ┆ … ┆ 11   ┆ 34   ┆ 8    ┆ 167          │\n",
       "│ Gempa Bumi           ┆ 12   ┆ 6    ┆ 13   ┆ … ┆ 17   ┆ 22   ┆ 13   ┆ 118          │\n",
       "│ Gunung Meletus       ┆ 7    ┆ 8    ┆ 4    ┆ … ┆ 1    ┆ 58   ┆ 4    ┆ 98           │\n",
       "│ Kebakaran Hutan      ┆ 49   ┆ 21   ┆ 100  ┆ … ┆ 96   ┆ 370  ┆ 55   ┆ 915          │\n",
       "│ Kekeringan           ┆ 263  ┆ 66   ┆ 7    ┆ … ┆ 19   ┆ 129  ┆ 33   ┆ 524          │\n",
       "│ Tanah Longsor        ┆ 287  ┆ 293  ┆ 598  ┆ … ┆ 844  ┆ 473  ┆ 355  ┆ 3950         │\n",
       "│ Tsunami              ┆ 0    ┆ 0    ┆ 2    ┆ … ┆ 0    ┆ 2    ┆ 0    ┆ 4            │\n",
       "└──────────────────────┴──────┴──────┴──────┴───┴──────┴──────┴──────┴──────────────┘"
      ]
     },
     "execution_count": 50,
     "metadata": {},
     "output_type": "execute_result"
    }
   ],
   "source": [
    "df_new.with_columns(\n",
    "    df_new.select(pl.all().exclude(\"jenis_bencana\")).sum(axis=1).alias(\"jumlah_total\")\n",
    ")\n"
   ]
  },
  {
   "cell_type": "code",
   "execution_count": 51,
   "metadata": {},
   "outputs": [],
   "source": [
    "excluded_cols = ['jenis_bencana','jumlah_total']\n",
    "\n",
    "included_cols = [col for col in df_new.columns if col not in excluded_cols]\n",
    "sum_row = df_new.select(included_cols).sum()"
   ]
  },
  {
   "cell_type": "code",
   "execution_count": 55,
   "metadata": {},
   "outputs": [
    {
     "ename": "ShapeError",
     "evalue": "unable to append to a dataframe of width 9 with a dataframe of width 8",
     "output_type": "error",
     "traceback": [
      "\u001b[1;31m---------------------------------------------------------------------------\u001b[0m",
      "\u001b[1;31mShapeError\u001b[0m                                Traceback (most recent call last)",
      "\u001b[1;32mg:\\CodeWarehouse\\ml-project\\Projects\\indonesia-disaster\\main.ipynb Cell 10\u001b[0m in \u001b[0;36m1\n\u001b[1;32m----> <a href='vscode-notebook-cell:/g%3A/CodeWarehouse/ml-project/Projects/indonesia-disaster/main.ipynb#X13sZmlsZQ%3D%3D?line=0'>1</a>\u001b[0m df_new \u001b[39m=\u001b[39m df_new\u001b[39m.\u001b[39;49mvstack(sum_row)\n",
      "File \u001b[1;32mg:\\program files\\python\\lib\\site-packages\\polars\\dataframe\\frame.py:5557\u001b[0m, in \u001b[0;36mDataFrame.vstack\u001b[1;34m(self, df, in_place)\u001b[0m\n\u001b[0;32m   5555\u001b[0m     \u001b[39mreturn\u001b[39;00m \u001b[39mself\u001b[39m\n\u001b[0;32m   5556\u001b[0m \u001b[39melse\u001b[39;00m:\n\u001b[1;32m-> 5557\u001b[0m     \u001b[39mreturn\u001b[39;00m \u001b[39mself\u001b[39m\u001b[39m.\u001b[39m_from_pydf(\u001b[39mself\u001b[39;49m\u001b[39m.\u001b[39;49m_df\u001b[39m.\u001b[39;49mvstack(df\u001b[39m.\u001b[39;49m_df))\n",
      "\u001b[1;31mShapeError\u001b[0m: unable to append to a dataframe of width 9 with a dataframe of width 8"
     ]
    }
   ],
   "source": [
    "df_new = df_new.vstack(sum_row)"
   ]
  },
  {
   "cell_type": "code",
   "execution_count": null,
   "metadata": {},
   "outputs": [],
   "source": []
  }
 ],
 "metadata": {
  "kernelspec": {
   "display_name": "Python 3",
   "language": "python",
   "name": "python3"
  },
  "language_info": {
   "codemirror_mode": {
    "name": "ipython",
    "version": 3
   },
   "file_extension": ".py",
   "mimetype": "text/x-python",
   "name": "python",
   "nbconvert_exporter": "python",
   "pygments_lexer": "ipython3",
   "version": "3.10.7"
  },
  "orig_nbformat": 4
 },
 "nbformat": 4,
 "nbformat_minor": 2
}
